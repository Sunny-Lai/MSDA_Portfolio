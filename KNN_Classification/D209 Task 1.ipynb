{
 "cells": [
  {
   "cell_type": "markdown",
   "id": "7faa6888",
   "metadata": {},
   "source": [
    "# Objective\n",
    "The goal of this analysis is to utilize k-nearest neighbors (KNN) to identify what factors most significantly relate to patients being readmitted. The variables that will be analyzed are within the medical dataset provided. KNN classification will assist with creating an effective model to answer our research question."
   ]
  },
  {
   "cell_type": "code",
   "execution_count": 1,
   "id": "63410b44",
   "metadata": {},
   "outputs": [],
   "source": [
    "# Import Packages and Libraries\n",
    "\n",
    "import pandas as pd\n",
    "from pandas.api.types import CategoricalDtype\n",
    "import numpy as np\n",
    "import matplotlib.pyplot as plt\n",
    "import seaborn as sns\n",
    "from scipy import stats\n",
    "import statsmodels.api as sm\n",
    "from statsmodels.stats.outliers_influence import variance_inflation_factor\n",
    "from statsmodels.graphics.mosaicplot import mosaic\n",
    "from sklearn.model_selection import train_test_split\n",
    "from sklearn import preprocessing\n",
    "from sklearn.feature_selection import SelectKBest, f_classif\n",
    "from sklearn.neighbors import KNeighborsClassifier\n",
    "from sklearn.model_selection import GridSearchCV\n",
    "from sklearn.metrics import confusion_matrix\n",
    "from sklearn.metrics import roc_auc_score\n",
    "from sklearn.metrics import roc_curve\n",
    "from sklearn.metrics import classification_report\n",
    "from sklearn import linear_model\n",
    "from sklearn.preprocessing import StandardScaler\n",
    "scale = StandardScaler()"
   ]
  },
  {
   "cell_type": "code",
   "execution_count": 2,
   "id": "bbccad65",
   "metadata": {},
   "outputs": [],
   "source": [
    "#  Read Medical Dataset\n",
    "\n",
    "df = pd.read_csv(r\"E:\\Users\\laisu\\Downloads\\medical_clean.csv\",dtype={'locationid':np.int64})"
   ]
  },
  {
   "cell_type": "code",
   "execution_count": 3,
   "id": "0e08ceb8",
   "metadata": {
    "scrolled": true
   },
   "outputs": [
    {
     "data": {
      "text/html": [
       "<div>\n",
       "<style scoped>\n",
       "    .dataframe tbody tr th:only-of-type {\n",
       "        vertical-align: middle;\n",
       "    }\n",
       "\n",
       "    .dataframe tbody tr th {\n",
       "        vertical-align: top;\n",
       "    }\n",
       "\n",
       "    .dataframe thead th {\n",
       "        text-align: right;\n",
       "    }\n",
       "</style>\n",
       "<table border=\"1\" class=\"dataframe\">\n",
       "  <thead>\n",
       "    <tr style=\"text-align: right;\">\n",
       "      <th></th>\n",
       "      <th>CaseOrder</th>\n",
       "      <th>Customer_id</th>\n",
       "      <th>Interaction</th>\n",
       "      <th>UID</th>\n",
       "      <th>City</th>\n",
       "      <th>State</th>\n",
       "      <th>County</th>\n",
       "      <th>Zip</th>\n",
       "      <th>Lat</th>\n",
       "      <th>Lng</th>\n",
       "      <th>...</th>\n",
       "      <th>TotalCharge</th>\n",
       "      <th>Additional_charges</th>\n",
       "      <th>Item1</th>\n",
       "      <th>Item2</th>\n",
       "      <th>Item3</th>\n",
       "      <th>Item4</th>\n",
       "      <th>Item5</th>\n",
       "      <th>Item6</th>\n",
       "      <th>Item7</th>\n",
       "      <th>Item8</th>\n",
       "    </tr>\n",
       "  </thead>\n",
       "  <tbody>\n",
       "    <tr>\n",
       "      <th>0</th>\n",
       "      <td>1</td>\n",
       "      <td>C412403</td>\n",
       "      <td>8cd49b13-f45a-4b47-a2bd-173ffa932c2f</td>\n",
       "      <td>3a83ddb66e2ae73798bdf1d705dc0932</td>\n",
       "      <td>Eva</td>\n",
       "      <td>AL</td>\n",
       "      <td>Morgan</td>\n",
       "      <td>35621</td>\n",
       "      <td>34.34960</td>\n",
       "      <td>-86.72508</td>\n",
       "      <td>...</td>\n",
       "      <td>3726.702860</td>\n",
       "      <td>17939.403420</td>\n",
       "      <td>3</td>\n",
       "      <td>3</td>\n",
       "      <td>2</td>\n",
       "      <td>2</td>\n",
       "      <td>4</td>\n",
       "      <td>3</td>\n",
       "      <td>3</td>\n",
       "      <td>4</td>\n",
       "    </tr>\n",
       "    <tr>\n",
       "      <th>1</th>\n",
       "      <td>2</td>\n",
       "      <td>Z919181</td>\n",
       "      <td>d2450b70-0337-4406-bdbb-bc1037f1734c</td>\n",
       "      <td>176354c5eef714957d486009feabf195</td>\n",
       "      <td>Marianna</td>\n",
       "      <td>FL</td>\n",
       "      <td>Jackson</td>\n",
       "      <td>32446</td>\n",
       "      <td>30.84513</td>\n",
       "      <td>-85.22907</td>\n",
       "      <td>...</td>\n",
       "      <td>4193.190458</td>\n",
       "      <td>17612.998120</td>\n",
       "      <td>3</td>\n",
       "      <td>4</td>\n",
       "      <td>3</td>\n",
       "      <td>4</td>\n",
       "      <td>4</td>\n",
       "      <td>4</td>\n",
       "      <td>3</td>\n",
       "      <td>3</td>\n",
       "    </tr>\n",
       "    <tr>\n",
       "      <th>2</th>\n",
       "      <td>3</td>\n",
       "      <td>F995323</td>\n",
       "      <td>a2057123-abf5-4a2c-abad-8ffe33512562</td>\n",
       "      <td>e19a0fa00aeda885b8a436757e889bc9</td>\n",
       "      <td>Sioux Falls</td>\n",
       "      <td>SD</td>\n",
       "      <td>Minnehaha</td>\n",
       "      <td>57110</td>\n",
       "      <td>43.54321</td>\n",
       "      <td>-96.63772</td>\n",
       "      <td>...</td>\n",
       "      <td>2434.234222</td>\n",
       "      <td>17505.192460</td>\n",
       "      <td>2</td>\n",
       "      <td>4</td>\n",
       "      <td>4</td>\n",
       "      <td>4</td>\n",
       "      <td>3</td>\n",
       "      <td>4</td>\n",
       "      <td>3</td>\n",
       "      <td>3</td>\n",
       "    </tr>\n",
       "    <tr>\n",
       "      <th>3</th>\n",
       "      <td>4</td>\n",
       "      <td>A879973</td>\n",
       "      <td>1dec528d-eb34-4079-adce-0d7a40e82205</td>\n",
       "      <td>cd17d7b6d152cb6f23957346d11c3f07</td>\n",
       "      <td>New Richland</td>\n",
       "      <td>MN</td>\n",
       "      <td>Waseca</td>\n",
       "      <td>56072</td>\n",
       "      <td>43.89744</td>\n",
       "      <td>-93.51479</td>\n",
       "      <td>...</td>\n",
       "      <td>2127.830423</td>\n",
       "      <td>12993.437350</td>\n",
       "      <td>3</td>\n",
       "      <td>5</td>\n",
       "      <td>5</td>\n",
       "      <td>3</td>\n",
       "      <td>4</td>\n",
       "      <td>5</td>\n",
       "      <td>5</td>\n",
       "      <td>5</td>\n",
       "    </tr>\n",
       "    <tr>\n",
       "      <th>4</th>\n",
       "      <td>5</td>\n",
       "      <td>C544523</td>\n",
       "      <td>5885f56b-d6da-43a3-8760-83583af94266</td>\n",
       "      <td>d2f0425877b10ed6bb381f3e2579424a</td>\n",
       "      <td>West Point</td>\n",
       "      <td>VA</td>\n",
       "      <td>King William</td>\n",
       "      <td>23181</td>\n",
       "      <td>37.59894</td>\n",
       "      <td>-76.88958</td>\n",
       "      <td>...</td>\n",
       "      <td>2113.073274</td>\n",
       "      <td>3716.525786</td>\n",
       "      <td>2</td>\n",
       "      <td>1</td>\n",
       "      <td>3</td>\n",
       "      <td>3</td>\n",
       "      <td>5</td>\n",
       "      <td>3</td>\n",
       "      <td>4</td>\n",
       "      <td>3</td>\n",
       "    </tr>\n",
       "  </tbody>\n",
       "</table>\n",
       "<p>5 rows × 50 columns</p>\n",
       "</div>"
      ],
      "text/plain": [
       "   CaseOrder Customer_id                           Interaction  \\\n",
       "0          1     C412403  8cd49b13-f45a-4b47-a2bd-173ffa932c2f   \n",
       "1          2     Z919181  d2450b70-0337-4406-bdbb-bc1037f1734c   \n",
       "2          3     F995323  a2057123-abf5-4a2c-abad-8ffe33512562   \n",
       "3          4     A879973  1dec528d-eb34-4079-adce-0d7a40e82205   \n",
       "4          5     C544523  5885f56b-d6da-43a3-8760-83583af94266   \n",
       "\n",
       "                                UID          City State        County    Zip  \\\n",
       "0  3a83ddb66e2ae73798bdf1d705dc0932           Eva    AL        Morgan  35621   \n",
       "1  176354c5eef714957d486009feabf195      Marianna    FL       Jackson  32446   \n",
       "2  e19a0fa00aeda885b8a436757e889bc9   Sioux Falls    SD     Minnehaha  57110   \n",
       "3  cd17d7b6d152cb6f23957346d11c3f07  New Richland    MN        Waseca  56072   \n",
       "4  d2f0425877b10ed6bb381f3e2579424a    West Point    VA  King William  23181   \n",
       "\n",
       "        Lat       Lng  ...  TotalCharge Additional_charges Item1 Item2  Item3  \\\n",
       "0  34.34960 -86.72508  ...  3726.702860       17939.403420     3     3      2   \n",
       "1  30.84513 -85.22907  ...  4193.190458       17612.998120     3     4      3   \n",
       "2  43.54321 -96.63772  ...  2434.234222       17505.192460     2     4      4   \n",
       "3  43.89744 -93.51479  ...  2127.830423       12993.437350     3     5      5   \n",
       "4  37.59894 -76.88958  ...  2113.073274        3716.525786     2     1      3   \n",
       "\n",
       "   Item4  Item5 Item6 Item7 Item8  \n",
       "0      2      4     3     3     4  \n",
       "1      4      4     4     3     3  \n",
       "2      4      3     4     3     3  \n",
       "3      3      4     5     5     5  \n",
       "4      3      5     3     4     3  \n",
       "\n",
       "[5 rows x 50 columns]"
      ]
     },
     "execution_count": 3,
     "metadata": {},
     "output_type": "execute_result"
    }
   ],
   "source": [
    "df.head(5)"
   ]
  },
  {
   "cell_type": "markdown",
   "id": "20f41735",
   "metadata": {},
   "source": [
    "# Data Cleaning and Preparation\n",
    "- Detecting for duplicates, missing values, and outliers\n",
    "- Data Wrangling\n",
    "- Exploratory Data Analysis"
   ]
  },
  {
   "cell_type": "code",
   "execution_count": 4,
   "id": "ee25ff53",
   "metadata": {},
   "outputs": [
    {
     "data": {
      "text/plain": [
       "0       False\n",
       "1       False\n",
       "2       False\n",
       "3       False\n",
       "4       False\n",
       "        ...  \n",
       "9995    False\n",
       "9996    False\n",
       "9997    False\n",
       "9998    False\n",
       "9999    False\n",
       "Length: 10000, dtype: bool"
      ]
     },
     "execution_count": 4,
     "metadata": {},
     "output_type": "execute_result"
    }
   ],
   "source": [
    "# Detecting Duplicates\n",
    "\n",
    "df.duplicated()"
   ]
  },
  {
   "cell_type": "code",
   "execution_count": 5,
   "id": "7ad70f8d",
   "metadata": {},
   "outputs": [
    {
     "data": {
      "text/plain": [
       "CaseOrder             0\n",
       "Customer_id           0\n",
       "Interaction           0\n",
       "UID                   0\n",
       "City                  0\n",
       "State                 0\n",
       "County                0\n",
       "Zip                   0\n",
       "Lat                   0\n",
       "Lng                   0\n",
       "Population            0\n",
       "Area                  0\n",
       "TimeZone              0\n",
       "Job                   0\n",
       "Children              0\n",
       "Age                   0\n",
       "Income                0\n",
       "Marital               0\n",
       "Gender                0\n",
       "ReAdmis               0\n",
       "VitD_levels           0\n",
       "Doc_visits            0\n",
       "Full_meals_eaten      0\n",
       "vitD_supp             0\n",
       "Soft_drink            0\n",
       "Initial_admin         0\n",
       "HighBlood             0\n",
       "Stroke                0\n",
       "Complication_risk     0\n",
       "Overweight            0\n",
       "Arthritis             0\n",
       "Diabetes              0\n",
       "Hyperlipidemia        0\n",
       "BackPain              0\n",
       "Anxiety               0\n",
       "Allergic_rhinitis     0\n",
       "Reflux_esophagitis    0\n",
       "Asthma                0\n",
       "Services              0\n",
       "Initial_days          0\n",
       "TotalCharge           0\n",
       "Additional_charges    0\n",
       "Item1                 0\n",
       "Item2                 0\n",
       "Item3                 0\n",
       "Item4                 0\n",
       "Item5                 0\n",
       "Item6                 0\n",
       "Item7                 0\n",
       "Item8                 0\n",
       "dtype: int64"
      ]
     },
     "execution_count": 5,
     "metadata": {},
     "output_type": "execute_result"
    }
   ],
   "source": [
    "# Detecting Missing Values\n",
    "\n",
    "df.isnull().sum()"
   ]
  },
  {
   "cell_type": "code",
   "execution_count": 6,
   "id": "52e1b272",
   "metadata": {},
   "outputs": [
    {
     "data": {
      "image/png": "[encoded data removed]",
      "text/plain": [
       "<Figure size 640x480 with 1 Axes>"
      ]
     },
     "metadata": {},
     "output_type": "display_data"
    }
   ],
   "source": [
    "# Detecting Outliers\n",
    "\n",
    "boxplot=sns.boxplot(x= 'Age',data=df)"
   ]
  },
  {
   "cell_type": "code",
   "execution_count": 7,
   "id": "31a3d354",
   "metadata": {},
   "outputs": [
    {
     "data": {
      "image/png": "[encoded data removed]",
      "text/plain": [
       "<Figure size 640x480 with 1 Axes>"
      ]
     },
     "metadata": {},
     "output_type": "display_data"
    }
   ],
   "source": [
    "boxplot=sns.boxplot(x= 'Doc_visits',data=df)"
   ]
  },
  {
   "cell_type": "code",
   "execution_count": 8,
   "id": "26c48b27",
   "metadata": {},
   "outputs": [
    {
     "data": {
      "image/png": "[encoded data removed]",
      "text/plain": [
       "<Figure size 640x480 with 1 Axes>"
      ]
     },
     "metadata": {},
     "output_type": "display_data"
    }
   ],
   "source": [
    "boxplot=sns.boxplot(x= 'Initial_days',data=df)"
   ]
  },
  {
   "cell_type": "code",
   "execution_count": 9,
   "id": "b9111ec7",
   "metadata": {},
   "outputs": [
    {
     "data": {
      "image/png": "[encoded data removed]",
      "text/plain": [
       "<Figure size 640x480 with 1 Axes>"
      ]
     },
     "metadata": {},
     "output_type": "display_data"
    }
   ],
   "source": [
    "boxplot=sns.boxplot(x= 'TotalCharge',data=df)"
   ]
  },
  {
   "cell_type": "code",
   "execution_count": 10,
   "id": "f2692f42",
   "metadata": {},
   "outputs": [],
   "source": [
    "# Data Wrangling, Changing categorical values to numerical\n",
    "\n",
    "df['Anxiety_dum'] = [1 if v == 'Yes' else 0 for v in df['Anxiety']]\n",
    "df['ReAdmis_dum'] = [1 if v == 'Yes' else 0 for v in df['ReAdmis']]\n",
    "df['Doc_visits_dum'] = [1 if v == 'Yes' else 0 for v in df['Doc_visits']]\n",
    "df['HighBlood_dum'] = [1 if v == 'Yes' else 0 for v in df['HighBlood']]\n",
    "df['Stroke_dum'] = [1 if v == 'Yes' else 0 for v in df['Stroke']]\n",
    "df['Overweight_dum'] = [1 if v == 'Yes' else 0 for v in df['Overweight']]\n",
    "df['Arthritis_dum'] = [1 if v == 'Yes' else 0 for v in df['Arthritis']]\n",
    "df['Diabetes_dum'] = [1 if v == 'Yes' else 0 for v in df['Diabetes']]\n",
    "df['Hyperlipidemia_dum'] = [1 if v == 'Yes' else 0 for v in df['Hyperlipidemia']]\n",
    "df['BackPain_dum'] = [1 if v == 'Yes' else 0 for v in df['BackPain']]\n",
    "df['Allergic_rhinitis_dum'] = [1 if v == 'Yes' else 0 for v in df['Allergic_rhinitis']]\n",
    "df['Reflux_esophagitis_dum'] = [1 if v == 'Yes' else 0 for v in df['Reflux_esophagitis']]\n",
    "df['Asthma_dum'] = [1 if v == 'Yes' else 0 for v in df['Asthma']]"
   ]
  },
  {
   "cell_type": "code",
   "execution_count": 11,
   "id": "eb7e5b96",
   "metadata": {},
   "outputs": [],
   "source": [
    "df['Complication_numeric'] = df['Complication_risk']\n",
    "dict_comp = {\"Complication_numeric\": {\"Low\": 0, \"Medium\": 1, \"High\": 2}}\n",
    "df.replace(dict_comp, inplace=True)"
   ]
  },
  {
   "cell_type": "code",
   "execution_count": 12,
   "id": "eda70704",
   "metadata": {},
   "outputs": [
    {
     "data": {
      "image/png": "[encoded data removed]",
      "text/plain": [
       "<Figure size 640x480 with 16 Axes>"
      ]
     },
     "metadata": {},
     "output_type": "display_data"
    }
   ],
   "source": [
    "# Data Exploration\n",
    "\n",
    "df[[\"TotalCharge\", \"Initial_days\", \"Anxiety_dum\", \"ReAdmis_dum\", \"Doc_visits\", \"HighBlood_dum\", \"Stroke_dum\", \"Overweight_dum\", \"Arthritis_dum\", \"Diabetes_dum\", \"Hyperlipidemia_dum\", \"BackPain_dum\", \"Allergic_rhinitis_dum\", \"Reflux_esophagitis_dum\", \"Complication_numeric\", \"Age\"]].hist()\n",
    "plt.tight_layout()"
   ]
  },
  {
   "cell_type": "code",
   "execution_count": 27,
   "id": "d94d1674",
   "metadata": {
    "scrolled": false
   },
   "outputs": [
    {
     "data": {
      "text/html": [
       "<div>\n",
       "<style scoped>\n",
       "    .dataframe tbody tr th:only-of-type {\n",
       "        vertical-align: middle;\n",
       "    }\n",
       "\n",
       "    .dataframe tbody tr th {\n",
       "        vertical-align: top;\n",
       "    }\n",
       "\n",
       "    .dataframe thead th {\n",
       "        text-align: right;\n",
       "    }\n",
       "</style>\n",
       "<table border=\"1\" class=\"dataframe\">\n",
       "  <thead>\n",
       "    <tr style=\"text-align: right;\">\n",
       "      <th></th>\n",
       "      <th>TotalCharge</th>\n",
       "      <th>Anxiety_dum</th>\n",
       "      <th>ReAdmis_dum</th>\n",
       "      <th>Doc_visits</th>\n",
       "      <th>HighBlood_dum</th>\n",
       "      <th>Stroke_dum</th>\n",
       "      <th>Overweight_dum</th>\n",
       "      <th>Arthritis_dum</th>\n",
       "      <th>Diabetes_dum</th>\n",
       "      <th>Hyperlipidemia_dum</th>\n",
       "      <th>BackPain_dum</th>\n",
       "      <th>Allergic_rhinitis_dum</th>\n",
       "      <th>Reflux_esophagitis_dum</th>\n",
       "      <th>Complication_numeric</th>\n",
       "      <th>Age</th>\n",
       "      <th>Initial_days</th>\n",
       "    </tr>\n",
       "  </thead>\n",
       "  <tbody>\n",
       "    <tr>\n",
       "      <th>count</th>\n",
       "      <td>10000.000000</td>\n",
       "      <td>10000.000000</td>\n",
       "      <td>10000.000000</td>\n",
       "      <td>10000.000000</td>\n",
       "      <td>10000.000000</td>\n",
       "      <td>10000.000000</td>\n",
       "      <td>10000.000000</td>\n",
       "      <td>10000.000000</td>\n",
       "      <td>10000.00000</td>\n",
       "      <td>10000.000000</td>\n",
       "      <td>10000.000000</td>\n",
       "      <td>10000.000000</td>\n",
       "      <td>10000.000000</td>\n",
       "      <td>10000.000000</td>\n",
       "      <td>10000.000000</td>\n",
       "      <td>10000.000000</td>\n",
       "    </tr>\n",
       "    <tr>\n",
       "      <th>mean</th>\n",
       "      <td>5312.172769</td>\n",
       "      <td>0.321500</td>\n",
       "      <td>0.366900</td>\n",
       "      <td>5.012200</td>\n",
       "      <td>0.409000</td>\n",
       "      <td>0.199300</td>\n",
       "      <td>0.709400</td>\n",
       "      <td>0.357400</td>\n",
       "      <td>0.27380</td>\n",
       "      <td>0.337200</td>\n",
       "      <td>0.411400</td>\n",
       "      <td>0.394100</td>\n",
       "      <td>0.413500</td>\n",
       "      <td>1.123300</td>\n",
       "      <td>53.511700</td>\n",
       "      <td>34.455299</td>\n",
       "    </tr>\n",
       "    <tr>\n",
       "      <th>std</th>\n",
       "      <td>2180.393838</td>\n",
       "      <td>0.467076</td>\n",
       "      <td>0.481983</td>\n",
       "      <td>1.045734</td>\n",
       "      <td>0.491674</td>\n",
       "      <td>0.399494</td>\n",
       "      <td>0.454062</td>\n",
       "      <td>0.479258</td>\n",
       "      <td>0.44593</td>\n",
       "      <td>0.472777</td>\n",
       "      <td>0.492112</td>\n",
       "      <td>0.488681</td>\n",
       "      <td>0.492486</td>\n",
       "      <td>0.730172</td>\n",
       "      <td>20.638538</td>\n",
       "      <td>26.309341</td>\n",
       "    </tr>\n",
       "    <tr>\n",
       "      <th>min</th>\n",
       "      <td>1938.312067</td>\n",
       "      <td>0.000000</td>\n",
       "      <td>0.000000</td>\n",
       "      <td>1.000000</td>\n",
       "      <td>0.000000</td>\n",
       "      <td>0.000000</td>\n",
       "      <td>0.000000</td>\n",
       "      <td>0.000000</td>\n",
       "      <td>0.00000</td>\n",
       "      <td>0.000000</td>\n",
       "      <td>0.000000</td>\n",
       "      <td>0.000000</td>\n",
       "      <td>0.000000</td>\n",
       "      <td>0.000000</td>\n",
       "      <td>18.000000</td>\n",
       "      <td>1.001981</td>\n",
       "    </tr>\n",
       "    <tr>\n",
       "      <th>25%</th>\n",
       "      <td>3179.374015</td>\n",
       "      <td>0.000000</td>\n",
       "      <td>0.000000</td>\n",
       "      <td>4.000000</td>\n",
       "      <td>0.000000</td>\n",
       "      <td>0.000000</td>\n",
       "      <td>0.000000</td>\n",
       "      <td>0.000000</td>\n",
       "      <td>0.00000</td>\n",
       "      <td>0.000000</td>\n",
       "      <td>0.000000</td>\n",
       "      <td>0.000000</td>\n",
       "      <td>0.000000</td>\n",
       "      <td>1.000000</td>\n",
       "      <td>36.000000</td>\n",
       "      <td>7.896215</td>\n",
       "    </tr>\n",
       "    <tr>\n",
       "      <th>50%</th>\n",
       "      <td>5213.952000</td>\n",
       "      <td>0.000000</td>\n",
       "      <td>0.000000</td>\n",
       "      <td>5.000000</td>\n",
       "      <td>0.000000</td>\n",
       "      <td>0.000000</td>\n",
       "      <td>1.000000</td>\n",
       "      <td>0.000000</td>\n",
       "      <td>0.00000</td>\n",
       "      <td>0.000000</td>\n",
       "      <td>0.000000</td>\n",
       "      <td>0.000000</td>\n",
       "      <td>0.000000</td>\n",
       "      <td>1.000000</td>\n",
       "      <td>53.000000</td>\n",
       "      <td>35.836244</td>\n",
       "    </tr>\n",
       "    <tr>\n",
       "      <th>75%</th>\n",
       "      <td>7459.699750</td>\n",
       "      <td>1.000000</td>\n",
       "      <td>1.000000</td>\n",
       "      <td>6.000000</td>\n",
       "      <td>1.000000</td>\n",
       "      <td>0.000000</td>\n",
       "      <td>1.000000</td>\n",
       "      <td>1.000000</td>\n",
       "      <td>1.00000</td>\n",
       "      <td>1.000000</td>\n",
       "      <td>1.000000</td>\n",
       "      <td>1.000000</td>\n",
       "      <td>1.000000</td>\n",
       "      <td>2.000000</td>\n",
       "      <td>71.000000</td>\n",
       "      <td>61.161020</td>\n",
       "    </tr>\n",
       "    <tr>\n",
       "      <th>max</th>\n",
       "      <td>9180.728000</td>\n",
       "      <td>1.000000</td>\n",
       "      <td>1.000000</td>\n",
       "      <td>9.000000</td>\n",
       "      <td>1.000000</td>\n",
       "      <td>1.000000</td>\n",
       "      <td>1.000000</td>\n",
       "      <td>1.000000</td>\n",
       "      <td>1.00000</td>\n",
       "      <td>1.000000</td>\n",
       "      <td>1.000000</td>\n",
       "      <td>1.000000</td>\n",
       "      <td>1.000000</td>\n",
       "      <td>2.000000</td>\n",
       "      <td>89.000000</td>\n",
       "      <td>71.981490</td>\n",
       "    </tr>\n",
       "  </tbody>\n",
       "</table>\n",
       "</div>"
      ],
      "text/plain": [
       "        TotalCharge   Anxiety_dum   ReAdmis_dum    Doc_visits  HighBlood_dum  \\\n",
       "count  10000.000000  10000.000000  10000.000000  10000.000000   10000.000000   \n",
       "mean    5312.172769      0.321500      0.366900      5.012200       0.409000   \n",
       "std     2180.393838      0.467076      0.481983      1.045734       0.491674   \n",
       "min     1938.312067      0.000000      0.000000      1.000000       0.000000   \n",
       "25%     3179.374015      0.000000      0.000000      4.000000       0.000000   \n",
       "50%     5213.952000      0.000000      0.000000      5.000000       0.000000   \n",
       "75%     7459.699750      1.000000      1.000000      6.000000       1.000000   \n",
       "max     9180.728000      1.000000      1.000000      9.000000       1.000000   \n",
       "\n",
       "         Stroke_dum  Overweight_dum  Arthritis_dum  Diabetes_dum  \\\n",
       "count  10000.000000    10000.000000   10000.000000   10000.00000   \n",
       "mean       0.199300        0.709400       0.357400       0.27380   \n",
       "std        0.399494        0.454062       0.479258       0.44593   \n",
       "min        0.000000        0.000000       0.000000       0.00000   \n",
       "25%        0.000000        0.000000       0.000000       0.00000   \n",
       "50%        0.000000        1.000000       0.000000       0.00000   \n",
       "75%        0.000000        1.000000       1.000000       1.00000   \n",
       "max        1.000000        1.000000       1.000000       1.00000   \n",
       "\n",
       "       Hyperlipidemia_dum  BackPain_dum  Allergic_rhinitis_dum  \\\n",
       "count        10000.000000  10000.000000           10000.000000   \n",
       "mean             0.337200      0.411400               0.394100   \n",
       "std              0.472777      0.492112               0.488681   \n",
       "min              0.000000      0.000000               0.000000   \n",
       "25%              0.000000      0.000000               0.000000   \n",
       "50%              0.000000      0.000000               0.000000   \n",
       "75%              1.000000      1.000000               1.000000   \n",
       "max              1.000000      1.000000               1.000000   \n",
       "\n",
       "       Reflux_esophagitis_dum  Complication_numeric           Age  \\\n",
       "count            10000.000000          10000.000000  10000.000000   \n",
       "mean                 0.413500              1.123300     53.511700   \n",
       "std                  0.492486              0.730172     20.638538   \n",
       "min                  0.000000              0.000000     18.000000   \n",
       "25%                  0.000000              1.000000     36.000000   \n",
       "50%                  0.000000              1.000000     53.000000   \n",
       "75%                  1.000000              2.000000     71.000000   \n",
       "max                  1.000000              2.000000     89.000000   \n",
       "\n",
       "       Initial_days  \n",
       "count  10000.000000  \n",
       "mean      34.455299  \n",
       "std       26.309341  \n",
       "min        1.001981  \n",
       "25%        7.896215  \n",
       "50%       35.836244  \n",
       "75%       61.161020  \n",
       "max       71.981490  "
      ]
     },
     "execution_count": 27,
     "metadata": {},
     "output_type": "execute_result"
    }
   ],
   "source": [
    "# Descriptive Statistics\n",
    "\n",
    "df1 = df[[\"TotalCharge\", \"Anxiety_dum\", \"ReAdmis_dum\", \"Doc_visits\", \"HighBlood_dum\", \"Stroke_dum\", \"Overweight_dum\", \"Arthritis_dum\", \"Diabetes_dum\", \"Hyperlipidemia_dum\", \"BackPain_dum\", \"Allergic_rhinitis_dum\", \"Reflux_esophagitis_dum\", \"Complication_numeric\", \"Age\", \"Initial_days\"]]\n",
    "df1.describe()"
   ]
  },
  {
   "cell_type": "markdown",
   "id": "c8bc47c4",
   "metadata": {},
   "source": [
    "# Analysis\n",
    "- Scaling Data\n",
    "- Feature Selection\n",
    "- Splitting and training the data\n",
    "- Determining K\n",
    "- Classification model, Confusion Matrix, and ROC Curve\n",
    "\n",
    "To run our analysis utilizing k-NN classification, we needed to determine what our k value will be. To do this, I utilized the GridSearchCV function to calculate an optimal k value. This calculation resulted in 28 neighbors. To ensure confidence, I ran a knn cv score test, which resulted in approximately 98 percent.  \n",
    "\n",
    "I then performed the KNN classifcation utilizing my k value of 28 and created a confusion matrix. The confusion matrix displayed the actual and false positive predictions for the KNN model. I then calculated the training and testing accuracy of the KNN model, which resulted in 97 and 98 percent respectfully. I also created a visualization for a ROC curve, followed by an accuracy score test for the AUC. I finished by running a summary statistic of our model."
   ]
  },
  {
   "cell_type": "code",
   "execution_count": 28,
   "id": "2880faa9",
   "metadata": {},
   "outputs": [
    {
     "name": "stdout",
     "output_type": "stream",
     "text": [
      "[[-0.9073098  -0.02479466  0.94464652]\n",
      " [-0.73459473 -0.1217056  -0.96798057]\n",
      " [-1.12829151 -0.02479466 -0.96798057]\n",
      " ...\n",
      " [ 1.3569578  -0.4124384  -0.96798057]\n",
      " [ 1.09858493 -0.50934933 -0.01166703]\n",
      " [ 1.38342919  0.79894828 -0.01166703]]\n"
     ]
    }
   ],
   "source": [
    "# scaling the data for KNN\n",
    "\n",
    "X = df1.drop([\"ReAdmis_dum\"], axis=1).copy()\n",
    "Xs = df[[\"Initial_days\", \"Age\", \"Doc_visits\"]]\n",
    "y = df[\"ReAdmis_dum\"]\n",
    "scaledX = scale.fit_transform(Xs)\n",
    "print(scaledX)"
   ]
  },
  {
   "cell_type": "code",
   "execution_count": 29,
   "id": "898beab3",
   "metadata": {},
   "outputs": [
    {
     "data": {
      "text/html": [
       "<div>\n",
       "<style scoped>\n",
       "    .dataframe tbody tr th:only-of-type {\n",
       "        vertical-align: middle;\n",
       "    }\n",
       "\n",
       "    .dataframe tbody tr th {\n",
       "        vertical-align: top;\n",
       "    }\n",
       "\n",
       "    .dataframe thead th {\n",
       "        text-align: right;\n",
       "    }\n",
       "</style>\n",
       "<table border=\"1\" class=\"dataframe\">\n",
       "  <thead>\n",
       "    <tr style=\"text-align: right;\">\n",
       "      <th></th>\n",
       "      <th>Feature</th>\n",
       "      <th>p_value</th>\n",
       "    </tr>\n",
       "  </thead>\n",
       "  <tbody>\n",
       "    <tr>\n",
       "      <th>0</th>\n",
       "      <td>TotalCharge</td>\n",
       "      <td>0.0</td>\n",
       "    </tr>\n",
       "    <tr>\n",
       "      <th>14</th>\n",
       "      <td>Initial_days</td>\n",
       "      <td>0.0</td>\n",
       "    </tr>\n",
       "  </tbody>\n",
       "</table>\n",
       "</div>"
      ],
      "text/plain": [
       "         Feature  p_value\n",
       "0    TotalCharge      0.0\n",
       "14  Initial_days      0.0"
      ]
     },
     "execution_count": 29,
     "metadata": {},
     "output_type": "execute_result"
    }
   ],
   "source": [
    "# Feature Selection\n",
    "\n",
    "feat_select = SelectKBest(f_classif, k='all')\n",
    "feat_select.fit_transform(X, y)\n",
    "feat_pvals = pd.DataFrame({'Feature' : X.columns, 'p_value' : feat_select.pvalues_}).sort_values('p_value') \n",
    "feat_pvals[feat_pvals['p_value'] < 0.05]\n"
   ]
  },
  {
   "cell_type": "code",
   "execution_count": 30,
   "id": "ffd9253a",
   "metadata": {},
   "outputs": [],
   "source": [
    "# Splitting the code\n",
    "\n",
    "X_train, X_test, y_train, y_test = train_test_split(X, y, train_size = 0.8, test_size = 0.2, random_state = 15, stratify = y)"
   ]
  },
  {
   "cell_type": "code",
   "execution_count": 31,
   "id": "3509d75b",
   "metadata": {},
   "outputs": [],
   "source": [
    "# Saving the data sets to CSV\n",
    "\n",
    "X_train.to_csv('task1_Xtrain.csv', index=False)\n",
    "X_test.to_csv('task1_Xtest.csv', index=False)\n",
    "y_train.to_csv('task1_ytrain.csv', index=False)\n",
    "y_test.to_csv('task1_ytest.csv', index=False)"
   ]
  },
  {
   "cell_type": "code",
   "execution_count": 32,
   "id": "c1d5c084",
   "metadata": {},
   "outputs": [
    {
     "data": {
      "text/plain": [
       "{'n_neighbors': 5}"
      ]
     },
     "execution_count": 32,
     "metadata": {},
     "output_type": "execute_result"
    }
   ],
   "source": [
    "# Determing K\n",
    "\n",
    "param_grid = {'n_neighbors' : np.arange(1, 50)}\n",
    "knn = KNeighborsClassifier()\n",
    "knn_cv = GridSearchCV(knn, param_grid, cv=5)\n",
    "knn_cv.fit(X_train, y_train)\n",
    "knn_cv.best_params_"
   ]
  },
  {
   "cell_type": "code",
   "execution_count": 33,
   "id": "9dcd58c2",
   "metadata": {},
   "outputs": [
    {
     "data": {
      "text/plain": [
       "0.9606250000000001"
      ]
     },
     "execution_count": 33,
     "metadata": {},
     "output_type": "execute_result"
    }
   ],
   "source": [
    "knn_cv.best_score_"
   ]
  },
  {
   "cell_type": "code",
   "execution_count": 34,
   "id": "b5e415d4",
   "metadata": {},
   "outputs": [
    {
     "name": "stdout",
     "output_type": "stream",
     "text": [
      "Confusion matrix for this KNN model:\n",
      "Predicted ReAdmission | Predicted ReAdmission\n",
      "                 [1223   43] Actual ReAdmission\n",
      "                 [ 39 695] Actual ReAdmission\n",
      "The training accuracy of this KNN classification is 0.9595.\n",
      "The testing accuracy of this KNN classification model is 0.959.\n"
     ]
    }
   ],
   "source": [
    "# Initial Confusion Matrix and KNN\n",
    "\n",
    "knn = KNeighborsClassifier(n_neighbors = 28)\n",
    "knn.fit(X_train, y_train)\n",
    "y_pred = knn.predict(X_test)\n",
    "final_matrix = confusion_matrix(y_test, y_pred)\n",
    "print(\"Confusion matrix for this KNN model:\")\n",
    "print(\"Predicted ReAdmission | Predicted ReAdmission\")\n",
    "print(f\"                 {final_matrix[0]} Actual ReAdmission\")\n",
    "print(f\"                 {final_matrix[1]} Actual ReAdmission\")\n",
    "print(f\"The training accuracy of this KNN classification is {knn.score(X_train, y_train)}.\")\n",
    "print(f\"The testing accuracy of this KNN classification model is {knn.score(X_test, y_test)}.\")"
   ]
  },
  {
   "cell_type": "code",
   "execution_count": 35,
   "id": "d6423a10",
   "metadata": {},
   "outputs": [
    {
     "data": {
      "image/png": "[encoded data removed]",
      "text/plain": [
       "<Figure size 640x480 with 1 Axes>"
      ]
     },
     "metadata": {},
     "output_type": "display_data"
    },
    {
     "name": "stdout",
     "output_type": "stream",
     "text": [
      "The Area Under the Curve (AUC) score is: 0.9919186995019607\n",
      "\n",
      "              precision    recall  f1-score   support\n",
      "\n",
      "           0       0.97      0.97      0.97      1266\n",
      "           1       0.94      0.95      0.94       734\n",
      "\n",
      "    accuracy                           0.96      2000\n",
      "   macro avg       0.96      0.96      0.96      2000\n",
      "weighted avg       0.96      0.96      0.96      2000\n",
      "\n"
     ]
    }
   ],
   "source": [
    "# ROC Curve\n",
    "\n",
    "y_pred_prob = knn.predict_proba(X_test)[:, 1]\n",
    "fpr, tpr, thresholds = roc_curve(y_test, y_pred_prob)\n",
    "plt.plot([0, 1], [0, 1], 'k--')\n",
    "plt.plot(fpr, tpr)\n",
    "plt.xlabel('False Positive Rate')\n",
    "plt.ylabel('True Positive Rate')\n",
    "plt.title('ROC Curve')\n",
    "plt.show()\n",
    "print(f\"The Area Under the Curve (AUC) score is: {roc_auc_score(y_test, y_pred_prob)}\\n\")\n",
    "print(classification_report(y_test, y_pred))"
   ]
  },
  {
   "cell_type": "code",
   "execution_count": 36,
   "id": "3685a769",
   "metadata": {},
   "outputs": [],
   "source": [
    "df.to_csv (r\"E:\\Users\\laisu\\Documents\\data4.csv\")"
   ]
  },
  {
   "cell_type": "markdown",
   "id": "854b57f4",
   "metadata": {},
   "source": [
    "# Results\n",
    "Within our ROC KNN model, there is a central diagonal line that represents a 50 percent classification rate. The Area Under the Curve (AUC) score is a percentage of the model’s area beneath the curve that is created by the KNN classification. The higher the percentage equates to a more accurate model. The resulting AUC score of our classification model was approximately 99.8 percent.\n",
    "\n",
    "The accuracy scores that were mentioned above provide confidence in our ROC KNN classification model. With a precision score of 98 percent, the model shows it can accurately predict if a patient is readmitted within 30 days of discharge 98 percent of the time with the predictor variables provided. The accuracy scores that resulted from indicates this model as a strong classifier of data that can produce accurate resuts based on our input variables with confidence."
   ]
  },
  {
   "cell_type": "markdown",
   "id": "0765b4e9",
   "metadata": {},
   "source": [
    "# Limitations and Recommendations\n",
    "One of the main limitations of K-Nearest Neighbor classification is the number of neighbors, or k. Though there are calculations to determine the best k value, there can be large inaccuracies depending on the k value chosen. Intuitively, most would believe that a larger k value would result in more accurate classification as there are more neighbors to classify the data point of interest. However, this may not be the case as a larger number of data points increases the sensitivity of the classification.\n",
    "\n",
    "Though our ROC KNN model returned very high accuracy scores, it is difficult to provide recommendations to stakeholders based only on our analysis. The KNN classification does not measure for a causal relationship, it classifies similar factors of input data points that are a certain distance from our data point of interest. I also believe that many of the limitations to our model are due to the data set that I utilized. As I have mentioned in previous courses, I do not believe there are an adequate quality of variables to accurately determine the significant factors for the readmission of patients. I would recommend for stakeholders to add more variables that can better predict what classification of factors that impact the readmission of patients."
   ]
  },
  {
   "cell_type": "code",
   "execution_count": null,
   "id": "8d1d3ee1",
   "metadata": {},
   "outputs": [],
   "source": []
  }
 ],
 "metadata": {
  "kernelspec": {
   "display_name": "Python 3 (ipykernel)",
   "language": "python",
   "name": "python3"
  },
  "language_info": {
   "codemirror_mode": {
    "name": "ipython",
    "version": 3
   },
   "file_extension": ".py",
   "mimetype": "text/x-python",
   "name": "python",
   "nbconvert_exporter": "python",
   "pygments_lexer": "ipython3",
   "version": "3.10.9"
  }
 },
 "nbformat": 4,
 "nbformat_minor": 5
}
