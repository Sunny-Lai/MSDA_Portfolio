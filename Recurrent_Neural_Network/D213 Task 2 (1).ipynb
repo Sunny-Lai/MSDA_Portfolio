{
 "cells": [
  {
   "cell_type": "markdown",
   "id": "d469df69",
   "metadata": {},
   "source": [
    "# Objective\n",
    "The goal of this analysis is to utilize recurrent neural networking on a combined dataset of reviews from Amazon, IMDB, and Yelp to detect patterns and make predictions that provide actionable insight for stakeholders. "
   ]
  },
  {
   "cell_type": "code",
   "execution_count": 1,
   "id": "34456581",
   "metadata": {},
   "outputs": [
    {
     "name": "stdout",
     "output_type": "stream",
     "text": [
      "Requirement already satisfied: tensorflow in e:\\users\\laisu\\anaconda3\\lib\\site-packages (2.14.0)\n",
      "Requirement already satisfied: tensorflow-intel==2.14.0 in e:\\users\\laisu\\anaconda3\\lib\\site-packages (from tensorflow) (2.14.0)\n",
      "Requirement already satisfied: tensorflow-io-gcs-filesystem>=0.23.1 in e:\\users\\laisu\\anaconda3\\lib\\site-packages (from tensorflow-intel==2.14.0->tensorflow) (0.31.0)\n",
      "Requirement already satisfied: keras<2.15,>=2.14.0 in e:\\users\\laisu\\anaconda3\\lib\\site-packages (from tensorflow-intel==2.14.0->tensorflow) (2.14.0)\n",
      "Requirement already satisfied: termcolor>=1.1.0 in e:\\users\\laisu\\anaconda3\\lib\\site-packages (from tensorflow-intel==2.14.0->tensorflow) (2.3.0)\n",
      "Requirement already satisfied: absl-py>=1.0.0 in e:\\users\\laisu\\anaconda3\\lib\\site-packages (from tensorflow-intel==2.14.0->tensorflow) (2.0.0)\n",
      "Requirement already satisfied: flatbuffers>=23.5.26 in e:\\users\\laisu\\anaconda3\\lib\\site-packages (from tensorflow-intel==2.14.0->tensorflow) (23.5.26)\n",
      "Requirement already satisfied: six>=1.12.0 in e:\\users\\laisu\\anaconda3\\lib\\site-packages (from tensorflow-intel==2.14.0->tensorflow) (1.16.0)\n",
      "Requirement already satisfied: wrapt<1.15,>=1.11.0 in e:\\users\\laisu\\anaconda3\\lib\\site-packages (from tensorflow-intel==2.14.0->tensorflow) (1.14.1)\n",
      "Requirement already satisfied: libclang>=13.0.0 in e:\\users\\laisu\\anaconda3\\lib\\site-packages (from tensorflow-intel==2.14.0->tensorflow) (16.0.6)\n",
      "Requirement already satisfied: gast!=0.5.0,!=0.5.1,!=0.5.2,>=0.2.1 in e:\\users\\laisu\\anaconda3\\lib\\site-packages (from tensorflow-intel==2.14.0->tensorflow) (0.5.4)\n",
      "Requirement already satisfied: tensorboard<2.15,>=2.14 in e:\\users\\laisu\\anaconda3\\lib\\site-packages (from tensorflow-intel==2.14.0->tensorflow) (2.14.1)\n",
      "Requirement already satisfied: h5py>=2.9.0 in e:\\users\\laisu\\anaconda3\\lib\\site-packages (from tensorflow-intel==2.14.0->tensorflow) (3.7.0)\n",
      "Requirement already satisfied: typing-extensions>=3.6.6 in e:\\users\\laisu\\anaconda3\\lib\\site-packages (from tensorflow-intel==2.14.0->tensorflow) (4.4.0)\n",
      "Requirement already satisfied: grpcio<2.0,>=1.24.3 in e:\\users\\laisu\\anaconda3\\lib\\site-packages (from tensorflow-intel==2.14.0->tensorflow) (1.59.2)\n",
      "Requirement already satisfied: google-pasta>=0.1.1 in e:\\users\\laisu\\anaconda3\\lib\\site-packages (from tensorflow-intel==2.14.0->tensorflow) (0.2.0)\n",
      "Requirement already satisfied: tensorflow-estimator<2.15,>=2.14.0 in e:\\users\\laisu\\anaconda3\\lib\\site-packages (from tensorflow-intel==2.14.0->tensorflow) (2.14.0)\n",
      "Requirement already satisfied: astunparse>=1.6.0 in e:\\users\\laisu\\anaconda3\\lib\\site-packages (from tensorflow-intel==2.14.0->tensorflow) (1.6.3)\n",
      "Requirement already satisfied: protobuf!=4.21.0,!=4.21.1,!=4.21.2,!=4.21.3,!=4.21.4,!=4.21.5,<5.0.0dev,>=3.20.3 in e:\\users\\laisu\\anaconda3\\lib\\site-packages (from tensorflow-intel==2.14.0->tensorflow) (4.25.0)\n",
      "Requirement already satisfied: packaging in e:\\users\\laisu\\anaconda3\\lib\\site-packages (from tensorflow-intel==2.14.0->tensorflow) (22.0)\n",
      "Requirement already satisfied: ml-dtypes==0.2.0 in e:\\users\\laisu\\anaconda3\\lib\\site-packages (from tensorflow-intel==2.14.0->tensorflow) (0.2.0)\n",
      "Requirement already satisfied: opt-einsum>=2.3.2 in e:\\users\\laisu\\anaconda3\\lib\\site-packages (from tensorflow-intel==2.14.0->tensorflow) (3.3.0)\n",
      "Requirement already satisfied: numpy>=1.23.5 in e:\\users\\laisu\\anaconda3\\lib\\site-packages (from tensorflow-intel==2.14.0->tensorflow) (1.23.5)\n",
      "Requirement already satisfied: setuptools in e:\\users\\laisu\\anaconda3\\lib\\site-packages (from tensorflow-intel==2.14.0->tensorflow) (65.6.3)\n",
      "Requirement already satisfied: wheel<1.0,>=0.23.0 in e:\\users\\laisu\\anaconda3\\lib\\site-packages (from astunparse>=1.6.0->tensorflow-intel==2.14.0->tensorflow) (0.38.4)\n",
      "Requirement already satisfied: requests<3,>=2.21.0 in e:\\users\\laisu\\anaconda3\\lib\\site-packages (from tensorboard<2.15,>=2.14->tensorflow-intel==2.14.0->tensorflow) (2.28.1)\n",
      "Requirement already satisfied: google-auth-oauthlib<1.1,>=0.5 in e:\\users\\laisu\\anaconda3\\lib\\site-packages (from tensorboard<2.15,>=2.14->tensorflow-intel==2.14.0->tensorflow) (1.0.0)\n",
      "Requirement already satisfied: tensorboard-data-server<0.8.0,>=0.7.0 in e:\\users\\laisu\\anaconda3\\lib\\site-packages (from tensorboard<2.15,>=2.14->tensorflow-intel==2.14.0->tensorflow) (0.7.2)\n",
      "Requirement already satisfied: werkzeug>=1.0.1 in e:\\users\\laisu\\anaconda3\\lib\\site-packages (from tensorboard<2.15,>=2.14->tensorflow-intel==2.14.0->tensorflow) (2.2.2)\n",
      "Requirement already satisfied: markdown>=2.6.8 in e:\\users\\laisu\\anaconda3\\lib\\site-packages (from tensorboard<2.15,>=2.14->tensorflow-intel==2.14.0->tensorflow) (3.4.1)\n",
      "Requirement already satisfied: google-auth<3,>=1.6.3 in e:\\users\\laisu\\anaconda3\\lib\\site-packages (from tensorboard<2.15,>=2.14->tensorflow-intel==2.14.0->tensorflow) (2.23.4)\n",
      "Requirement already satisfied: rsa<5,>=3.1.4 in e:\\users\\laisu\\anaconda3\\lib\\site-packages (from google-auth<3,>=1.6.3->tensorboard<2.15,>=2.14->tensorflow-intel==2.14.0->tensorflow) (4.9)\n",
      "Requirement already satisfied: pyasn1-modules>=0.2.1 in e:\\users\\laisu\\anaconda3\\lib\\site-packages (from google-auth<3,>=1.6.3->tensorboard<2.15,>=2.14->tensorflow-intel==2.14.0->tensorflow) (0.2.8)\n",
      "Requirement already satisfied: cachetools<6.0,>=2.0.0 in e:\\users\\laisu\\anaconda3\\lib\\site-packages (from google-auth<3,>=1.6.3->tensorboard<2.15,>=2.14->tensorflow-intel==2.14.0->tensorflow) (5.3.2)\n",
      "Requirement already satisfied: requests-oauthlib>=0.7.0 in e:\\users\\laisu\\anaconda3\\lib\\site-packages (from google-auth-oauthlib<1.1,>=0.5->tensorboard<2.15,>=2.14->tensorflow-intel==2.14.0->tensorflow) (1.3.1)\n",
      "Requirement already satisfied: charset-normalizer<3,>=2 in e:\\users\\laisu\\anaconda3\\lib\\site-packages (from requests<3,>=2.21.0->tensorboard<2.15,>=2.14->tensorflow-intel==2.14.0->tensorflow) (2.0.4)\n",
      "Requirement already satisfied: idna<4,>=2.5 in e:\\users\\laisu\\anaconda3\\lib\\site-packages (from requests<3,>=2.21.0->tensorboard<2.15,>=2.14->tensorflow-intel==2.14.0->tensorflow) (3.4)\n",
      "Requirement already satisfied: urllib3<1.27,>=1.21.1 in e:\\users\\laisu\\anaconda3\\lib\\site-packages (from requests<3,>=2.21.0->tensorboard<2.15,>=2.14->tensorflow-intel==2.14.0->tensorflow) (1.26.14)\n",
      "Requirement already satisfied: certifi>=2017.4.17 in e:\\users\\laisu\\anaconda3\\lib\\site-packages (from requests<3,>=2.21.0->tensorboard<2.15,>=2.14->tensorflow-intel==2.14.0->tensorflow) (2022.12.7)\n",
      "Requirement already satisfied: MarkupSafe>=2.1.1 in e:\\users\\laisu\\anaconda3\\lib\\site-packages (from werkzeug>=1.0.1->tensorboard<2.15,>=2.14->tensorflow-intel==2.14.0->tensorflow) (2.1.1)\n",
      "Requirement already satisfied: pyasn1<0.5.0,>=0.4.6 in e:\\users\\laisu\\anaconda3\\lib\\site-packages (from pyasn1-modules>=0.2.1->google-auth<3,>=1.6.3->tensorboard<2.15,>=2.14->tensorflow-intel==2.14.0->tensorflow) (0.4.8)\n",
      "Requirement already satisfied: oauthlib>=3.0.0 in e:\\users\\laisu\\anaconda3\\lib\\site-packages (from requests-oauthlib>=0.7.0->google-auth-oauthlib<1.1,>=0.5->tensorboard<2.15,>=2.14->tensorflow-intel==2.14.0->tensorflow) (3.2.2)\n",
      "Note: you may need to restart the kernel to use updated packages.\n"
     ]
    }
   ],
   "source": [
    "pip install tensorflow"
   ]
  },
  {
   "cell_type": "code",
   "execution_count": 2,
   "id": "fbb76cbb",
   "metadata": {},
   "outputs": [],
   "source": [
    "# Import Packages and Libraries\n",
    "\n",
    "import numpy as np\n",
    "import pandas as pd\n",
    "from pandas import Series, DataFrame\n",
    "import nltk\n",
    "import matplotlib.pyplot as plt\n",
    "import seaborn as sns\n",
    "import warnings\n",
    "warnings.filterwarnings('ignore')\n",
    "from sklearn.model_selection import train_test_split\n",
    "import os\n",
    "import datetime\n",
    "import tensorflow.keras\n",
    "from nltk.tokenize import word_tokenize\n",
    "from nltk.corpus import stopwords\n",
    "from keras.preprocessing.text import Tokenizer\n",
    "import tensorflow as tf"
   ]
  },
  {
   "cell_type": "code",
   "execution_count": 4,
   "id": "1145e610",
   "metadata": {},
   "outputs": [],
   "source": [
    "# Import Amazon Dataset\n",
    "\n",
    "df1 = pd.read_csv(r\"E:\\Users\\laisu\\Downloads\\amazon.csv - amazon_cells_labelled.csv\", names=['Review', 'Sentiment_Value'], header=None, dtype={'locationid' :np.int64},parse_dates=True)"
   ]
  },
  {
   "cell_type": "code",
   "execution_count": 5,
   "id": "ca5d0e24",
   "metadata": {},
   "outputs": [
    {
     "data": {
      "text/html": [
       "<div>\n",
       "<style scoped>\n",
       "    .dataframe tbody tr th:only-of-type {\n",
       "        vertical-align: middle;\n",
       "    }\n",
       "\n",
       "    .dataframe tbody tr th {\n",
       "        vertical-align: top;\n",
       "    }\n",
       "\n",
       "    .dataframe thead th {\n",
       "        text-align: right;\n",
       "    }\n",
       "</style>\n",
       "<table border=\"1\" class=\"dataframe\">\n",
       "  <thead>\n",
       "    <tr style=\"text-align: right;\">\n",
       "      <th></th>\n",
       "      <th>Review</th>\n",
       "      <th>Sentiment_Value</th>\n",
       "    </tr>\n",
       "  </thead>\n",
       "  <tbody>\n",
       "    <tr>\n",
       "      <th>0</th>\n",
       "      <td>So there is no way for me to plug it in here i...</td>\n",
       "      <td>0</td>\n",
       "    </tr>\n",
       "    <tr>\n",
       "      <th>1</th>\n",
       "      <td>Good case, Excellent value.</td>\n",
       "      <td>1</td>\n",
       "    </tr>\n",
       "    <tr>\n",
       "      <th>2</th>\n",
       "      <td>Great for the jawbone.</td>\n",
       "      <td>1</td>\n",
       "    </tr>\n",
       "    <tr>\n",
       "      <th>3</th>\n",
       "      <td>Tied to charger for conversations lasting more...</td>\n",
       "      <td>0</td>\n",
       "    </tr>\n",
       "    <tr>\n",
       "      <th>4</th>\n",
       "      <td>The mic is great.</td>\n",
       "      <td>1</td>\n",
       "    </tr>\n",
       "  </tbody>\n",
       "</table>\n",
       "</div>"
      ],
      "text/plain": [
       "                                              Review  Sentiment_Value\n",
       "0  So there is no way for me to plug it in here i...                0\n",
       "1                        Good case, Excellent value.                1\n",
       "2                             Great for the jawbone.                1\n",
       "3  Tied to charger for conversations lasting more...                0\n",
       "4                                  The mic is great.                1"
      ]
     },
     "execution_count": 5,
     "metadata": {},
     "output_type": "execute_result"
    }
   ],
   "source": [
    "df1.head(5)"
   ]
  },
  {
   "cell_type": "code",
   "execution_count": 6,
   "id": "c9ffb4b6",
   "metadata": {},
   "outputs": [],
   "source": [
    "# Import IMDB Dataset\n",
    "\n",
    "df2 = pd.read_csv(r\"E:\\Users\\laisu\\Downloads\\imdb.csv - imdb_labelled (1).csv\", names=['Review', 'Sentiment_Value'], header=None, dtype={'locationid' :np.int64},parse_dates=True)"
   ]
  },
  {
   "cell_type": "code",
   "execution_count": 7,
   "id": "1c0803a7",
   "metadata": {},
   "outputs": [
    {
     "data": {
      "text/html": [
       "<div>\n",
       "<style scoped>\n",
       "    .dataframe tbody tr th:only-of-type {\n",
       "        vertical-align: middle;\n",
       "    }\n",
       "\n",
       "    .dataframe tbody tr th {\n",
       "        vertical-align: top;\n",
       "    }\n",
       "\n",
       "    .dataframe thead th {\n",
       "        text-align: right;\n",
       "    }\n",
       "</style>\n",
       "<table border=\"1\" class=\"dataframe\">\n",
       "  <thead>\n",
       "    <tr style=\"text-align: right;\">\n",
       "      <th></th>\n",
       "      <th>Review</th>\n",
       "      <th>Sentiment_Value</th>\n",
       "    </tr>\n",
       "  </thead>\n",
       "  <tbody>\n",
       "    <tr>\n",
       "      <th>0</th>\n",
       "      <td>A very, very, very slow-moving, aimless movie ...</td>\n",
       "      <td>0</td>\n",
       "    </tr>\n",
       "    <tr>\n",
       "      <th>1</th>\n",
       "      <td>Not sure who was more lost - the flat characte...</td>\n",
       "      <td>0</td>\n",
       "    </tr>\n",
       "    <tr>\n",
       "      <th>2</th>\n",
       "      <td>Attempting artiness with black &amp; white and cle...</td>\n",
       "      <td>0</td>\n",
       "    </tr>\n",
       "    <tr>\n",
       "      <th>3</th>\n",
       "      <td>Very little music or anything to speak of.</td>\n",
       "      <td>0</td>\n",
       "    </tr>\n",
       "    <tr>\n",
       "      <th>4</th>\n",
       "      <td>The best scene in the movie was when Gerardo i...</td>\n",
       "      <td>1</td>\n",
       "    </tr>\n",
       "    <tr>\n",
       "      <th>...</th>\n",
       "      <td>...</td>\n",
       "      <td>...</td>\n",
       "    </tr>\n",
       "    <tr>\n",
       "      <th>743</th>\n",
       "      <td>I just got bored watching Jessice Lange take h...</td>\n",
       "      <td>0</td>\n",
       "    </tr>\n",
       "    <tr>\n",
       "      <th>744</th>\n",
       "      <td>Unfortunately, any virtue in this film's produ...</td>\n",
       "      <td>0</td>\n",
       "    </tr>\n",
       "    <tr>\n",
       "      <th>745</th>\n",
       "      <td>In a word, it is embarrassing.</td>\n",
       "      <td>0</td>\n",
       "    </tr>\n",
       "    <tr>\n",
       "      <th>746</th>\n",
       "      <td>Exceptionally bad!</td>\n",
       "      <td>0</td>\n",
       "    </tr>\n",
       "    <tr>\n",
       "      <th>747</th>\n",
       "      <td>All in all its an insult to one's intelligence...</td>\n",
       "      <td>0</td>\n",
       "    </tr>\n",
       "  </tbody>\n",
       "</table>\n",
       "<p>748 rows × 2 columns</p>\n",
       "</div>"
      ],
      "text/plain": [
       "                                                Review  Sentiment_Value\n",
       "0    A very, very, very slow-moving, aimless movie ...                0\n",
       "1    Not sure who was more lost - the flat characte...                0\n",
       "2    Attempting artiness with black & white and cle...                0\n",
       "3           Very little music or anything to speak of.                0\n",
       "4    The best scene in the movie was when Gerardo i...                1\n",
       "..                                                 ...              ...\n",
       "743  I just got bored watching Jessice Lange take h...                0\n",
       "744  Unfortunately, any virtue in this film's produ...                0\n",
       "745                     In a word, it is embarrassing.                0\n",
       "746                                 Exceptionally bad!                0\n",
       "747  All in all its an insult to one's intelligence...                0\n",
       "\n",
       "[748 rows x 2 columns]"
      ]
     },
     "execution_count": 7,
     "metadata": {},
     "output_type": "execute_result"
    }
   ],
   "source": [
    "df2"
   ]
  },
  {
   "cell_type": "code",
   "execution_count": 8,
   "id": "669babdc",
   "metadata": {},
   "outputs": [],
   "source": [
    "# Import Yelp Dataset\n",
    "\n",
    "df3 = pd.read_csv(r\"E:\\Users\\laisu\\Downloads\\yelp.csv - yelp_labelled.csv\", names=['Review', 'Sentiment_Value'], header=None, dtype={'locationid' :np.int64},parse_dates=True)"
   ]
  },
  {
   "cell_type": "code",
   "execution_count": 9,
   "id": "bed05c79",
   "metadata": {},
   "outputs": [
    {
     "data": {
      "text/html": [
       "<div>\n",
       "<style scoped>\n",
       "    .dataframe tbody tr th:only-of-type {\n",
       "        vertical-align: middle;\n",
       "    }\n",
       "\n",
       "    .dataframe tbody tr th {\n",
       "        vertical-align: top;\n",
       "    }\n",
       "\n",
       "    .dataframe thead th {\n",
       "        text-align: right;\n",
       "    }\n",
       "</style>\n",
       "<table border=\"1\" class=\"dataframe\">\n",
       "  <thead>\n",
       "    <tr style=\"text-align: right;\">\n",
       "      <th></th>\n",
       "      <th>Review</th>\n",
       "      <th>Sentiment_Value</th>\n",
       "    </tr>\n",
       "  </thead>\n",
       "  <tbody>\n",
       "    <tr>\n",
       "      <th>0</th>\n",
       "      <td>Wow... Loved this place.</td>\n",
       "      <td>1</td>\n",
       "    </tr>\n",
       "    <tr>\n",
       "      <th>1</th>\n",
       "      <td>Crust is not good.</td>\n",
       "      <td>0</td>\n",
       "    </tr>\n",
       "    <tr>\n",
       "      <th>2</th>\n",
       "      <td>Not tasty and the texture was just nasty.</td>\n",
       "      <td>0</td>\n",
       "    </tr>\n",
       "    <tr>\n",
       "      <th>3</th>\n",
       "      <td>Stopped by during the late May bank holiday of...</td>\n",
       "      <td>1</td>\n",
       "    </tr>\n",
       "    <tr>\n",
       "      <th>4</th>\n",
       "      <td>The selection on the menu was great and so wer...</td>\n",
       "      <td>1</td>\n",
       "    </tr>\n",
       "    <tr>\n",
       "      <th>...</th>\n",
       "      <td>...</td>\n",
       "      <td>...</td>\n",
       "    </tr>\n",
       "    <tr>\n",
       "      <th>995</th>\n",
       "      <td>I think food should have flavor and texture an...</td>\n",
       "      <td>0</td>\n",
       "    </tr>\n",
       "    <tr>\n",
       "      <th>996</th>\n",
       "      <td>Appetite instantly gone.</td>\n",
       "      <td>0</td>\n",
       "    </tr>\n",
       "    <tr>\n",
       "      <th>997</th>\n",
       "      <td>Overall I was not impressed and would not go b...</td>\n",
       "      <td>0</td>\n",
       "    </tr>\n",
       "    <tr>\n",
       "      <th>998</th>\n",
       "      <td>The whole experience was underwhelming, and I ...</td>\n",
       "      <td>0</td>\n",
       "    </tr>\n",
       "    <tr>\n",
       "      <th>999</th>\n",
       "      <td>Then, as if I hadn't wasted enough of my life ...</td>\n",
       "      <td>0</td>\n",
       "    </tr>\n",
       "  </tbody>\n",
       "</table>\n",
       "<p>1000 rows × 2 columns</p>\n",
       "</div>"
      ],
      "text/plain": [
       "                                                Review  Sentiment_Value\n",
       "0                             Wow... Loved this place.                1\n",
       "1                                   Crust is not good.                0\n",
       "2            Not tasty and the texture was just nasty.                0\n",
       "3    Stopped by during the late May bank holiday of...                1\n",
       "4    The selection on the menu was great and so wer...                1\n",
       "..                                                 ...              ...\n",
       "995  I think food should have flavor and texture an...                0\n",
       "996                           Appetite instantly gone.                0\n",
       "997  Overall I was not impressed and would not go b...                0\n",
       "998  The whole experience was underwhelming, and I ...                0\n",
       "999  Then, as if I hadn't wasted enough of my life ...                0\n",
       "\n",
       "[1000 rows x 2 columns]"
      ]
     },
     "execution_count": 9,
     "metadata": {},
     "output_type": "execute_result"
    }
   ],
   "source": [
    "df3"
   ]
  },
  {
   "cell_type": "markdown",
   "id": "323ea9d3",
   "metadata": {},
   "source": [
    "# Data Cleaning and Preparation\n",
    "- Read and import the datasets into the Jupyter notebook and combine the datasets into one data frame \n",
    "\n",
    "- Conduct data cleaning and exploratory analysis by checking for shape, missing values, vocabulary size, unusual characters, embedding length \n",
    "\n",
    "- Clean text by lowercasing, removing punctuation, and removing unwanted characters \n",
    "\n",
    "- Implement stopwords to remove conjunctions and word particles \n",
    "\n",
    "- Lemmatize and tokenize the data  \n",
    "\n",
    "- Vectorize the data with integer encoding \n",
    "\n",
    "- Add padding to either before or after the sequences \n",
    "\n",
    "- Split the dataset into validation, training, and test sets into an 80/20 split, as this is the common partitioning utilized for machine learning"
   ]
  },
  {
   "cell_type": "code",
   "execution_count": 10,
   "id": "aa251121",
   "metadata": {},
   "outputs": [],
   "source": [
    "# Combine the 3 datasets into a single DataFrame\n",
    "\n",
    "df=pd.concat((df1, df2, df3), ignore_index=True)"
   ]
  },
  {
   "cell_type": "code",
   "execution_count": 11,
   "id": "54cb9939",
   "metadata": {},
   "outputs": [
    {
     "data": {
      "text/plain": [
       "(2748, 2)"
      ]
     },
     "execution_count": 11,
     "metadata": {},
     "output_type": "execute_result"
    }
   ],
   "source": [
    "df.shape"
   ]
  },
  {
   "cell_type": "code",
   "execution_count": 12,
   "id": "e127ff2a",
   "metadata": {},
   "outputs": [
    {
     "data": {
      "text/plain": [
       "Review             0\n",
       "Sentiment_Value    0\n",
       "dtype: int64"
      ]
     },
     "execution_count": 12,
     "metadata": {},
     "output_type": "execute_result"
    }
   ],
   "source": [
    "# Detect for Missing Values\n",
    "\n",
    "df.isnull().sum()"
   ]
  },
  {
   "cell_type": "code",
   "execution_count": 13,
   "id": "03551d44",
   "metadata": {},
   "outputs": [
    {
     "data": {
      "text/html": [
       "<div>\n",
       "<style scoped>\n",
       "    .dataframe tbody tr th:only-of-type {\n",
       "        vertical-align: middle;\n",
       "    }\n",
       "\n",
       "    .dataframe tbody tr th {\n",
       "        vertical-align: top;\n",
       "    }\n",
       "\n",
       "    .dataframe thead th {\n",
       "        text-align: right;\n",
       "    }\n",
       "</style>\n",
       "<table border=\"1\" class=\"dataframe\">\n",
       "  <thead>\n",
       "    <tr style=\"text-align: right;\">\n",
       "      <th></th>\n",
       "      <th>Review</th>\n",
       "      <th>Sentiment_Value</th>\n",
       "    </tr>\n",
       "  </thead>\n",
       "  <tbody>\n",
       "    <tr>\n",
       "      <th>0</th>\n",
       "      <td>So there is no way for me to plug it in here i...</td>\n",
       "      <td>0</td>\n",
       "    </tr>\n",
       "    <tr>\n",
       "      <th>1</th>\n",
       "      <td>Good case, Excellent value.</td>\n",
       "      <td>1</td>\n",
       "    </tr>\n",
       "    <tr>\n",
       "      <th>2</th>\n",
       "      <td>Great for the jawbone.</td>\n",
       "      <td>1</td>\n",
       "    </tr>\n",
       "    <tr>\n",
       "      <th>3</th>\n",
       "      <td>Tied to charger for conversations lasting more...</td>\n",
       "      <td>0</td>\n",
       "    </tr>\n",
       "    <tr>\n",
       "      <th>4</th>\n",
       "      <td>The mic is great.</td>\n",
       "      <td>1</td>\n",
       "    </tr>\n",
       "    <tr>\n",
       "      <th>...</th>\n",
       "      <td>...</td>\n",
       "      <td>...</td>\n",
       "    </tr>\n",
       "    <tr>\n",
       "      <th>2743</th>\n",
       "      <td>I think food should have flavor and texture an...</td>\n",
       "      <td>0</td>\n",
       "    </tr>\n",
       "    <tr>\n",
       "      <th>2744</th>\n",
       "      <td>Appetite instantly gone.</td>\n",
       "      <td>0</td>\n",
       "    </tr>\n",
       "    <tr>\n",
       "      <th>2745</th>\n",
       "      <td>Overall I was not impressed and would not go b...</td>\n",
       "      <td>0</td>\n",
       "    </tr>\n",
       "    <tr>\n",
       "      <th>2746</th>\n",
       "      <td>The whole experience was underwhelming, and I ...</td>\n",
       "      <td>0</td>\n",
       "    </tr>\n",
       "    <tr>\n",
       "      <th>2747</th>\n",
       "      <td>Then, as if I hadn't wasted enough of my life ...</td>\n",
       "      <td>0</td>\n",
       "    </tr>\n",
       "  </tbody>\n",
       "</table>\n",
       "<p>2748 rows × 2 columns</p>\n",
       "</div>"
      ],
      "text/plain": [
       "                                                 Review  Sentiment_Value\n",
       "0     So there is no way for me to plug it in here i...                0\n",
       "1                           Good case, Excellent value.                1\n",
       "2                                Great for the jawbone.                1\n",
       "3     Tied to charger for conversations lasting more...                0\n",
       "4                                     The mic is great.                1\n",
       "...                                                 ...              ...\n",
       "2743  I think food should have flavor and texture an...                0\n",
       "2744                           Appetite instantly gone.                0\n",
       "2745  Overall I was not impressed and would not go b...                0\n",
       "2746  The whole experience was underwhelming, and I ...                0\n",
       "2747  Then, as if I hadn't wasted enough of my life ...                0\n",
       "\n",
       "[2748 rows x 2 columns]"
      ]
     },
     "execution_count": 13,
     "metadata": {},
     "output_type": "execute_result"
    }
   ],
   "source": [
    "# Dropping Nulls\n",
    "\n",
    "df.dropna()"
   ]
  },
  {
   "cell_type": "code",
   "execution_count": 14,
   "id": "c882c897",
   "metadata": {},
   "outputs": [],
   "source": [
    "# lowercasing\n",
    "\n",
    "df['Review']=df['Review'].str.lower()"
   ]
  },
  {
   "cell_type": "code",
   "execution_count": 15,
   "id": "1f4f9844",
   "metadata": {},
   "outputs": [
    {
     "data": {
      "text/html": [
       "<div>\n",
       "<style scoped>\n",
       "    .dataframe tbody tr th:only-of-type {\n",
       "        vertical-align: middle;\n",
       "    }\n",
       "\n",
       "    .dataframe tbody tr th {\n",
       "        vertical-align: top;\n",
       "    }\n",
       "\n",
       "    .dataframe thead th {\n",
       "        text-align: right;\n",
       "    }\n",
       "</style>\n",
       "<table border=\"1\" class=\"dataframe\">\n",
       "  <thead>\n",
       "    <tr style=\"text-align: right;\">\n",
       "      <th></th>\n",
       "      <th>Review</th>\n",
       "      <th>Sentiment_Value</th>\n",
       "    </tr>\n",
       "  </thead>\n",
       "  <tbody>\n",
       "    <tr>\n",
       "      <th>0</th>\n",
       "      <td>so there is no way for me to plug it in here i...</td>\n",
       "      <td>0</td>\n",
       "    </tr>\n",
       "    <tr>\n",
       "      <th>1</th>\n",
       "      <td>good case excellent value</td>\n",
       "      <td>1</td>\n",
       "    </tr>\n",
       "    <tr>\n",
       "      <th>2</th>\n",
       "      <td>great for the jawbone</td>\n",
       "      <td>1</td>\n",
       "    </tr>\n",
       "    <tr>\n",
       "      <th>3</th>\n",
       "      <td>tied to charger for conversations lasting more...</td>\n",
       "      <td>0</td>\n",
       "    </tr>\n",
       "    <tr>\n",
       "      <th>4</th>\n",
       "      <td>the mic is great</td>\n",
       "      <td>1</td>\n",
       "    </tr>\n",
       "    <tr>\n",
       "      <th>...</th>\n",
       "      <td>...</td>\n",
       "      <td>...</td>\n",
       "    </tr>\n",
       "    <tr>\n",
       "      <th>2743</th>\n",
       "      <td>i think food should have flavor and texture an...</td>\n",
       "      <td>0</td>\n",
       "    </tr>\n",
       "    <tr>\n",
       "      <th>2744</th>\n",
       "      <td>appetite instantly gone</td>\n",
       "      <td>0</td>\n",
       "    </tr>\n",
       "    <tr>\n",
       "      <th>2745</th>\n",
       "      <td>overall i was not impressed and would not go back</td>\n",
       "      <td>0</td>\n",
       "    </tr>\n",
       "    <tr>\n",
       "      <th>2746</th>\n",
       "      <td>the whole experience was underwhelming and i t...</td>\n",
       "      <td>0</td>\n",
       "    </tr>\n",
       "    <tr>\n",
       "      <th>2747</th>\n",
       "      <td>then as if i hadnt wasted enough of my life th...</td>\n",
       "      <td>0</td>\n",
       "    </tr>\n",
       "  </tbody>\n",
       "</table>\n",
       "<p>2748 rows × 2 columns</p>\n",
       "</div>"
      ],
      "text/plain": [
       "                                                 Review  Sentiment_Value\n",
       "0     so there is no way for me to plug it in here i...                0\n",
       "1                             good case excellent value                1\n",
       "2                                 great for the jawbone                1\n",
       "3     tied to charger for conversations lasting more...                0\n",
       "4                                      the mic is great                1\n",
       "...                                                 ...              ...\n",
       "2743  i think food should have flavor and texture an...                0\n",
       "2744                            appetite instantly gone                0\n",
       "2745  overall i was not impressed and would not go back                0\n",
       "2746  the whole experience was underwhelming and i t...                0\n",
       "2747  then as if i hadnt wasted enough of my life th...                0\n",
       "\n",
       "[2748 rows x 2 columns]"
      ]
     },
     "execution_count": 15,
     "metadata": {},
     "output_type": "execute_result"
    }
   ],
   "source": [
    "# Removing Punctuation\n",
    "\n",
    "import re\n",
    "p = re.compile(r'[^\\w\\s]+')\n",
    "df['Review']= [p.sub('', x) for x in df['Review'].tolist()]\n",
    "df"
   ]
  },
  {
   "cell_type": "code",
   "execution_count": 16,
   "id": "70191d61",
   "metadata": {},
   "outputs": [
    {
     "name": "stdout",
     "output_type": "stream",
     "text": [
      "['s', 'o', ' ', 't', 'h', 'e', 'r', 'i', 'n', 'w', 'a', 'y', 'f', 'm', 'p', 'l', 'u', 'g', 'b', 'c', 'v', 'd', 'x', 'j', '4', '5', 'z', 'q', 'k', '7', '3', '6', '8', '0', '2', '1', '9', '\\t', '\\n', 'é', '\\x85', 'å', 'ê']\n"
     ]
    }
   ],
   "source": [
    "# Detecting Unusual Characters\n",
    "\n",
    "unusual_char = df['Review']\n",
    "list_of_char = []\n",
    "for comment in unusual_char:\n",
    "    for char in comment:\n",
    "        if char not in list_of_char:\n",
    "            list_of_char.append(char)\n",
    "print(list_of_char)"
   ]
  },
  {
   "cell_type": "code",
   "execution_count": 17,
   "id": "a814c3f2",
   "metadata": {},
   "outputs": [
    {
     "name": "stdout",
     "output_type": "stream",
     "text": [
      "Vocabulary Size: 5400\n"
     ]
    }
   ],
   "source": [
    "# Vocabulary Size\n",
    "\n",
    "text_data = df['Review'].astype(str)\n",
    "\n",
    "tokens = [word_tokenize(text) for text in text_data]\n",
    "all_words = [word for sublist in tokens for word in sublist]\n",
    "vocabulary = set(all_words)\n",
    "vocabulary_size = len(vocabulary)\n",
    "print(\"Vocabulary Size:\", vocabulary_size)"
   ]
  },
  {
   "cell_type": "code",
   "execution_count": 19,
   "id": "004a47e6",
   "metadata": {},
   "outputs": [],
   "source": [
    "# Applying stopwords, tokenizing, and vectorizing1\n",
    "\n",
    "stop_words= set(stopwords.words('english'))\n",
    "\n",
    "data_set = []\n",
    "for sentence in df.Review:\n",
    "    data_set.append([word for word in word_tokenize(sentence) if word not in stop_words])\n",
    "    \n",
    "vocab_size=5400\n",
    "x=df['Review']\n",
    "tokenizer = Tokenizer(num_words = vocab_size)\n",
    "tokenizer.fit_on_texts(x)\n",
    "x = tokenizer.texts_to_sequences(x)\n"
   ]
  },
  {
   "cell_type": "code",
   "execution_count": 18,
   "id": "0f51680b",
   "metadata": {},
   "outputs": [
    {
     "name": "stdout",
     "output_type": "stream",
     "text": [
      "139\n"
     ]
    }
   ],
   "source": [
    "# Proposed Embedding Length\n",
    "\n",
    "sequences = tokenizer.texts_to_sequences(df['Review'])\n",
    "tokenizer = Tokenizer()\n",
    "max_sequence_length = max(len(seq) for seq in sequences)\n",
    "proposed_embedding_length = int(np.ceil(max_sequence_length * 0.1))\n",
    "print(proposed_embedding_length)"
   ]
  },
  {
   "cell_type": "code",
   "execution_count": 19,
   "id": "386ee8bf",
   "metadata": {},
   "outputs": [
    {
     "name": "stdout",
     "output_type": "stream",
     "text": [
      "Proposed Word Embedding Length: 9\n"
     ]
    }
   ],
   "source": [
    "proposed_embedding_length = int(round(np.sqrt(np.sqrt(len(vocabulary))), 0))\n",
    "print(\"Proposed Word Embedding Length:\", proposed_embedding_length)"
   ]
  },
  {
   "cell_type": "code",
   "execution_count": 20,
   "id": "13022bcd",
   "metadata": {},
   "outputs": [
    {
     "name": "stdout",
     "output_type": "stream",
     "text": [
      "Maximum Sequence Length: 1384\n",
      "Median Sequence Length: 10.0\n",
      "Minimum Sequence Length: 1\n"
     ]
    }
   ],
   "source": [
    "# Maximum Sequence Lengths\n",
    "\n",
    "sequence_lengths = [len(seq) for seq in sequences]\n",
    "max_sequence_length = np.max(sequence_lengths)\n",
    "median_sequence_length = np.median(sequence_lengths)\n",
    "min_sequence_length = np.min(sequence_lengths)\n",
    "print(\"Maximum Sequence Length:\", max_sequence_length)\n",
    "print(\"Median Sequence Length:\", median_sequence_length)\n",
    "print(\"Minimum Sequence Length:\", min_sequence_length)"
   ]
  },
  {
   "cell_type": "code",
   "execution_count": 21,
   "id": "e9576b17",
   "metadata": {},
   "outputs": [
    {
     "data": {
      "text/plain": [
       "array([[ 27,  49,   5, ...,   0,   0,   0],\n",
       "       [ 18, 152,  99, ...,   0,   0,   0],\n",
       "       [ 20,  12,   1, ...,   0,   0,   0],\n",
       "       ...,\n",
       "       [289,   3,  10, ...,   0,   0,   0],\n",
       "       [  1, 358, 165, ...,   0,   0,   0],\n",
       "       [142,  26,  46, ...,   0,   0,   0]])"
      ]
     },
     "execution_count": 21,
     "metadata": {},
     "output_type": "execute_result"
    }
   ],
   "source": [
    "# Padding\n",
    "\n",
    "from tensorflow.keras.preprocessing.sequence import pad_sequences\n",
    "rev_list=[]\n",
    "rev_list.append(df['Review'])\n",
    "rev_list=np.asarray(rev_list, dtype=object)\n",
    "max_len=len(max(rev_list, key=len))\n",
    "\n",
    "padded= pad_sequences(sequences,padding='post',truncating='post',maxlen=max_len)\n",
    "padded"
   ]
  },
  {
   "cell_type": "code",
   "execution_count": 22,
   "id": "cae47381",
   "metadata": {},
   "outputs": [
    {
     "name": "stdout",
     "output_type": "stream",
     "text": [
      "\" so there is no way for me to plug it in here in the us unless i go by a converter \"\n",
      "[27 49  5 ...  0  0  0]\n"
     ]
    }
   ],
   "source": [
    "# Classifying Text to Number\n",
    "\n",
    "from sklearn.datasets import make_classification\n",
    "import random\n",
    "n = random.randint(0, len(rev_list))\n",
    "print('\"', df.Review[n], '\"')\n",
    "print(padded[n])"
   ]
  },
  {
   "cell_type": "code",
   "execution_count": 23,
   "id": "7313d07f",
   "metadata": {},
   "outputs": [
    {
     "name": "stdout",
     "output_type": "stream",
     "text": [
      "Number of sentiment categories: 2\n"
     ]
    }
   ],
   "source": [
    "num_classes = 2\n",
    "model = tf.keras.Sequential([\n",
    "    tf.keras.layers.Dense(num_classes, activation='sigmoid')\n",
    "])\n",
    "\n",
    "print(\"Number of sentiment categories:\", num_classes)"
   ]
  },
  {
   "cell_type": "code",
   "execution_count": 24,
   "id": "71d21289",
   "metadata": {},
   "outputs": [
    {
     "data": {
      "text/plain": [
       "array([[ 27,  49,   5, ...,   0,   0,   0],\n",
       "       [ 18, 152,  99, ...,   0,   0,   0],\n",
       "       [ 20,  12,   1, ...,   0,   0,   0],\n",
       "       ...,\n",
       "       [289,   3,  10, ...,   0,   0,   0],\n",
       "       [  1, 358, 165, ...,   0,   0,   0],\n",
       "       [142,  26,  46, ...,   0,   0,   0]])"
      ]
     },
     "execution_count": 24,
     "metadata": {},
     "output_type": "execute_result"
    }
   ],
   "source": [
    "X= padded\n",
    "X"
   ]
  },
  {
   "cell_type": "code",
   "execution_count": 25,
   "id": "de205f85",
   "metadata": {},
   "outputs": [
    {
     "data": {
      "text/plain": [
       "array(['so there is no way for me to plug it in here in the us unless i go by a converter',\n",
       "       'good case excellent value', 'great for the jawbone', ...,\n",
       "       'overall i was not impressed and would not go back',\n",
       "       'the whole experience was underwhelming and i think well just go to ninja sushi next time',\n",
       "       'then as if i hadnt wasted enough of my life there they poured salt in the wound by drawing out the time it took to bring the check'],\n",
       "      dtype=object)"
      ]
     },
     "execution_count": 25,
     "metadata": {},
     "output_type": "execute_result"
    }
   ],
   "source": [
    "y= np.array(df['Review'].values)\n",
    "y"
   ]
  },
  {
   "cell_type": "code",
   "execution_count": 26,
   "id": "eea55da8",
   "metadata": {},
   "outputs": [],
   "source": [
    "# Splitting Dataset\n",
    "\n",
    "X_train, X_test, y_train, y_test = train_test_split(padded, np.array(df['Sentiment_Value']), test_size=0.2, random_state=42)"
   ]
  },
  {
   "cell_type": "code",
   "execution_count": 50,
   "id": "1c052797",
   "metadata": {},
   "outputs": [],
   "source": [
    "# Saving Split dataset\n",
    "\n",
    "pd.DataFrame(X_train).to_csv(r\"E:\\Users\\laisu\\Documents\\X_train213.csv\")\n",
    "pd.DataFrame(X_test).to_csv(r\"E:\\Users\\laisu\\Documents\\X_test213.csv\")\n",
    "pd.DataFrame(y_train).to_csv(r\"E:\\Users\\laisu\\Documents\\y_train213.csv\")\n",
    "pd.DataFrame(y_test).to_csv(r\"E:\\Users\\laisu\\Documents\\y_test213.csv\")"
   ]
  },
  {
   "cell_type": "markdown",
   "id": "4c52b739",
   "metadata": {},
   "source": [
    "# Analysis\n",
    "To create our neural network model, I imported the library TensorFlow and utilized the package keras. Keras is a package in Python that is utilized to build, configure, and deploy neural networks.\n",
    "- Model Parameters: Our neural network model consists of 3 layers, which are the embedding, LSTM, and dense layers. The embedding layer is used within natural language processing to create embeddings, or numerical vector representations, for categorical variables, this layer consists of 48,600 trainable parameters. The Long Short-Term Memory (LSTM) layer assists our neural network model to process long-term dependencies in sequential data, and this layer consists of 16,800 trainable parameters. The dense layer allows our neural network model to process complex patterns and embeddings through linear and non-linear transformations, and this layer consists of 61 trainable parameters. "
   ]
  },
  {
   "cell_type": "code",
   "execution_count": 33,
   "id": "aa26c9e2",
   "metadata": {},
   "outputs": [],
   "source": [
    "from tensorflow.keras import Sequential\n",
    "from tensorflow.keras.layers import LSTM, Dropout, Dense, Embedding\n",
    "from tensorflow.keras.callbacks import EarlyStopping"
   ]
  },
  {
   "cell_type": "code",
   "execution_count": 34,
   "id": "9792d1a4",
   "metadata": {},
   "outputs": [
    {
     "name": "stdout",
     "output_type": "stream",
     "text": [
      "Model: \"sequential_1\"\n",
      "_________________________________________________________________\n",
      " Layer (type)                Output Shape              Param #   \n",
      "=================================================================\n",
      " embedding (Embedding)       (None, 2748, 9)           48600     \n",
      "                                                                 \n",
      " lstm (LSTM)                 (None, 60)                16800     \n",
      "                                                                 \n",
      " dense_1 (Dense)             (None, 1)                 61        \n",
      "                                                                 \n",
      "=================================================================\n",
      "Total params: 65461 (255.71 KB)\n",
      "Trainable params: 65461 (255.71 KB)\n",
      "Non-trainable params: 0 (0.00 Byte)\n",
      "_________________________________________________________________\n"
     ]
    }
   ],
   "source": [
    "# Sequential Model\n",
    "\n",
    "embed_size=int(round(vocabulary_size ** (1/4))) #, 0))\n",
    "\n",
    "model = Sequential()\n",
    "model.add(Embedding(vocab_size, embed_size, input_shape = (X_train.shape[1],)))\n",
    "model.add(LSTM(units=60, activation='sigmoid'))\n",
    "model.add(Dense(units=1, activation='sigmoid'))\n",
    "\n",
    "model.compile(optimizer='adam', loss='binary_crossentropy', metrics='accuracy')\n",
    "model.summary()"
   ]
  },
  {
   "cell_type": "code",
   "execution_count": 35,
   "id": "5b5781ff",
   "metadata": {},
   "outputs": [
    {
     "name": "stdout",
     "output_type": "stream",
     "text": [
      "Epoch 1/20\n",
      "69/69 [==============================] - 83s 1s/step - loss: 0.6957 - accuracy: 0.5082 - val_loss: 0.6962 - val_accuracy: 0.4709\n",
      "Epoch 2/20\n",
      "69/69 [==============================] - 97s 1s/step - loss: 0.6933 - accuracy: 0.4791 - val_loss: 0.7135 - val_accuracy: 0.4709\n",
      "Epoch 3/20\n",
      "69/69 [==============================] - 97s 1s/step - loss: 0.6953 - accuracy: 0.4891 - val_loss: 0.6969 - val_accuracy: 0.4709\n",
      "Epoch 4/20\n",
      "69/69 [==============================] - 90s 1s/step - loss: 0.6935 - accuracy: 0.5073 - val_loss: 0.7027 - val_accuracy: 0.4709\n",
      "Epoch 5/20\n",
      "69/69 [==============================] - 96s 1s/step - loss: 0.6954 - accuracy: 0.5146 - val_loss: 0.6915 - val_accuracy: 0.5291\n",
      "Epoch 6/20\n",
      "69/69 [==============================] - 85s 1s/step - loss: 0.6958 - accuracy: 0.4982 - val_loss: 0.6952 - val_accuracy: 0.4709\n",
      "Epoch 7/20\n",
      "69/69 [==============================] - 94s 1s/step - loss: 0.6940 - accuracy: 0.5018 - val_loss: 0.6958 - val_accuracy: 0.4709\n",
      "Epoch 8/20\n",
      "69/69 [==============================] - 96s 1s/step - loss: 0.6948 - accuracy: 0.5100 - val_loss: 0.6974 - val_accuracy: 0.4709\n",
      "Epoch 9/20\n",
      "69/69 [==============================] - 97s 1s/step - loss: 0.6940 - accuracy: 0.5045 - val_loss: 0.6961 - val_accuracy: 0.4709\n",
      "Epoch 10/20\n",
      "69/69 [==============================] - 98s 1s/step - loss: 0.6950 - accuracy: 0.4945 - val_loss: 0.6929 - val_accuracy: 0.5291\n",
      "Epoch 11/20\n",
      "69/69 [==============================] - 96s 1s/step - loss: 0.6936 - accuracy: 0.5073 - val_loss: 0.6930 - val_accuracy: 0.5291\n",
      "Epoch 12/20\n",
      "69/69 [==============================] - 96s 1s/step - loss: 0.6940 - accuracy: 0.5118 - val_loss: 0.6933 - val_accuracy: 0.4709\n",
      "Epoch 13/20\n",
      "69/69 [==============================] - 93s 1s/step - loss: 0.6942 - accuracy: 0.5045 - val_loss: 0.6926 - val_accuracy: 0.5291\n"
     ]
    }
   ],
   "source": [
    "# Running our Model through 20 Epochs with Stopping Criteria\n",
    "\n",
    "from tensorflow.keras.callbacks import EarlyStopping\n",
    "\n",
    "early_stopping_monitor = EarlyStopping(patience=8)\n",
    "history = model.fit(X_train, y_train, epochs = 20, batch_size = 32, validation_split=0.3, verbose=True, callbacks=[early_stopping_monitor], validation_data=(X_test, y_test))"
   ]
  },
  {
   "cell_type": "code",
   "execution_count": 36,
   "id": "157268e7",
   "metadata": {},
   "outputs": [
    {
     "name": "stdout",
     "output_type": "stream",
     "text": [
      "18/18 [==============================] - 6s 319ms/step - loss: 0.6926 - accuracy: 0.5291\n"
     ]
    },
    {
     "data": {
      "text/plain": [
       "[0.692604660987854, 0.5290908813476562]"
      ]
     },
     "execution_count": 36,
     "metadata": {},
     "output_type": "execute_result"
    }
   ],
   "source": [
    "model.evaluate(X_test, y_test)"
   ]
  },
  {
   "cell_type": "code",
   "execution_count": 37,
   "id": "d058290a",
   "metadata": {},
   "outputs": [
    {
     "data": {
      "image/png": "[encoded data removed]",
      "text/plain": [
       "<Figure size 1000x600 with 1 Axes>"
      ]
     },
     "metadata": {},
     "output_type": "display_data"
    },
    {
     "data": {
      "image/png": "[encoded data removed]",
      "text/plain": [
       "<Figure size 1000x600 with 1 Axes>"
      ]
     },
     "metadata": {},
     "output_type": "display_data"
    }
   ],
   "source": [
    "accuracy = history.history['accuracy']\n",
    "loss = history.history['loss']\n",
    "val_accuracy = history.history['val_accuracy']\n",
    "val_loss = history.history['val_loss']\n",
    "\n",
    "# Plot accuracy\n",
    "plt.figure(figsize=(10, 6))\n",
    "plt.plot(range(1, len(accuracy) + 1), accuracy, label='Training Accuracy')\n",
    "plt.plot(range(1, len(val_accuracy) + 1), val_accuracy, label='Validation Accuracy')\n",
    "plt.title('Model Accuracy')\n",
    "plt.xlabel('Epochs')\n",
    "plt.ylabel('Accuracy')\n",
    "plt.legend()\n",
    "plt.show()\n",
    "\n",
    "# Plot loss\n",
    "plt.figure(figsize=(10, 6))\n",
    "plt.plot(range(1, len(loss) + 1), loss, label='Training Loss')\n",
    "plt.plot(range(1, len(val_loss) + 1), val_loss, label='Validation Loss')\n",
    "plt.title('Model Loss')\n",
    "plt.xlabel('Epochs')\n",
    "plt.ylabel('Loss')\n",
    "plt.legend()\n",
    "plt.show()"
   ]
  },
  {
   "cell_type": "code",
   "execution_count": 45,
   "id": "0de2fbb7",
   "metadata": {},
   "outputs": [],
   "source": [
    "sentiment_label = df.Sentiment_Value.factorize()"
   ]
  },
  {
   "cell_type": "code",
   "execution_count": 55,
   "id": "2eebe5d1",
   "metadata": {},
   "outputs": [],
   "source": [
    "# Prediction Model\n",
    "\n",
    "def predict_sentiment(text):\n",
    "    tw = tokenizer.texts_to_sequences([text])\n",
    "    tw = pad_sequences(tw,maxlen=2748)\n",
    "    prediction = int(model.predict(tw).round().item())\n",
    "    print(\"Predicted label: \", sentiment_label[1][prediction])"
   ]
  },
  {
   "cell_type": "code",
   "execution_count": 57,
   "id": "936bad7d",
   "metadata": {},
   "outputs": [
    {
     "name": "stdout",
     "output_type": "stream",
     "text": [
      "1/1 [==============================] - 0s 87ms/step\n",
      "Predicted label:  0\n"
     ]
    }
   ],
   "source": [
    "test_sentence1 = \"good case and excellent value\"\n",
    "predict_sentiment(test_sentence1)"
   ]
  },
  {
   "cell_type": "code",
   "execution_count": 42,
   "id": "d877daeb",
   "metadata": {},
   "outputs": [],
   "source": [
    "df.to_csv (r\"E:\\Users\\laisu\\Documents\\data2132.csv\")"
   ]
  },
  {
   "cell_type": "markdown",
   "id": "d2f5ce61",
   "metadata": {},
   "source": [
    "# Results\n",
    "- Utilizing our stopping criteria, our model was run with a various number of epochs until our stopping criteria halts. This resulted when we ran 20 epochs, the stopping criteria halted our model at 12 epochs when our validation loss did not improve.\n",
    "- Our model was processed through a various number of stopping criteria and epochs. The best predictive accuracy we achieved was 47.09 %. This indicates we were able to correctly predict 47.09% of training outcomes. Our average loss was 0.6937.\n",
    "- The architecture of our RNN model is well suited for text classification and structured for the consideration of our binary sentiment values. Though the prediction accuracy was approximately 50%, we were still able to predict whether a user's review was positive or negative based on test classification. This will provide actionable insights for stakeholders to improve customer satisfaction. "
   ]
  },
  {
   "cell_type": "markdown",
   "id": "d20e1ef0",
   "metadata": {},
   "source": [
    "# Recommendations\n",
    "Based on our low prediction accuracy value, I would not be confident for a company to utilize our neural network model. I would recommend providing a larger sample size to hopefully improve the accuracy of our model. I would also recommend separating the data into product-based reviews for predictions. I believe it may be difficult to accurately predict customer sentiment when combining reviews for multiple products across multiple platforms. I believe it would be more effective to analyze reviews and sentiments based on types of products, rather than across a whole platform with a numerous number of different products. I would also recommend adding variables to our dataset with specific dates for a review and products that the review is linked to."
   ]
  }
 ],
 "metadata": {
  "kernelspec": {
   "display_name": "Python 3 (ipykernel)",
   "language": "python",
   "name": "python3"
  },
  "language_info": {
   "codemirror_mode": {
    "name": "ipython",
    "version": 3
   },
   "file_extension": ".py",
   "mimetype": "text/x-python",
   "name": "python",
   "nbconvert_exporter": "python",
   "pygments_lexer": "ipython3",
   "version": "3.10.9"
  }
 },
 "nbformat": 4,
 "nbformat_minor": 5
}
